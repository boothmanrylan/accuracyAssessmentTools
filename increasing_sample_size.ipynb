{
  "cells": [
    {
      "cell_type": "markdown",
      "metadata": {
        "id": "view-in-github",
        "colab_type": "text"
      },
      "source": [
        "<a href=\"https://colab.research.google.com/github/boothmanrylan/accuracyAssessmentTools/blob/main/increasing_sample_size.ipynb\" target=\"_parent\"><img src=\"https://colab.research.google.com/assets/colab-badge.svg\" alt=\"Open In Colab\"/></a>"
      ]
    },
    {
      "cell_type": "markdown",
      "metadata": {
        "id": "9E5EFNO6Dzfx"
      },
      "source": [
        "# Installs and Imports"
      ]
    },
    {
      "cell_type": "code",
      "execution_count": null,
      "metadata": {
        "id": "ogwaLH3BC4xH",
        "tags": []
      },
      "outputs": [],
      "source": [
        "%cd /content\n",
        "!git clone https://github.com/boothmanrylan/accuracyAssessmentTools.git\n",
        "%cd accuracyAssessmentTools\n",
        "!pip install ."
      ]
    },
    {
      "cell_type": "code",
      "source": [
        "import pandas as pd\n",
        "import numpy as np\n",
        "import matplotlib.pyplot as plt\n",
        "from acc_assessment.olofsson import Olofsson\n",
        "from acc_assessment.utils import _expand_error_matrix"
      ],
      "metadata": {
        "id": "IrLA0qviG2v2"
      },
      "execution_count": null,
      "outputs": []
    },
    {
      "cell_type": "markdown",
      "metadata": {
        "id": "tASR5FX-GITX"
      },
      "source": [
        "# Create Assessments"
      ]
    },
    {
      "cell_type": "code",
      "execution_count": null,
      "metadata": {
        "id": "wtKKZboXGHcM",
        "tags": []
      },
      "outputs": [],
      "source": [
        "MIN = 10 # with less than this very likely to encounter a divide by zero error\n",
        "\n",
        "classes = [\"Deforestation\", \"Non-Forest\", \"Forest\"]\n",
        "\n",
        "error_matrix = pd.DataFrame(\n",
        "    [[66, 3, 2],\n",
        "     [5, 55, 2],\n",
        "     [5, 8, 153]],\n",
        "    index=classes,\n",
        "    columns=classes,\n",
        ")\n",
        "\n",
        "mapped_populations = dict(zip(classes, [200000, 150000, 3200000]))\n",
        "\n",
        "# sample(frac=1) shuffles the data to ensure they are in a random order\n",
        "longform_data = _expand_error_matrix(error_matrix, \"map\", \"ref\").sample(frac=1)\n",
        "\n",
        "# create n assessments where the ith assessment is based on the first i samples\n",
        "all_assessments = [\n",
        "    Olofsson(longform_data.iloc[:i, :], mapped_populations, \"map\", \"ref\")\n",
        "    for i in range(MIN, longform_data.shape[0])\n",
        "]"
      ]
    },
    {
      "cell_type": "markdown",
      "source": [
        "# Plot results"
      ],
      "metadata": {
        "id": "XPBbZDOJe9uI"
      }
    },
    {
      "cell_type": "code",
      "source": [
        "# get the users accuracy and standard error for the deforestation classes\n",
        "deforestation_users_accuracy = [x.users_accuracy(\"Deforestation\") for x in all_assessments]\n",
        "ua = np.array([x[0] for x in deforestation_users_accuracy])\n",
        "se = np.array([x[1] for x in deforestation_users_accuracy])\n",
        "x = np.arange(0, ua.shape[0]) + MIN\n",
        "\n",
        "plt.plot(x, ua)\n",
        "plt.fill_between(x, ua - se, ua + se, alpha=0.3)\n",
        "plt.xlabel(\"Num. Samples\")\n",
        "plt.ylabel(\"Deforestation User's Accuracy\")\n",
        "plt.ylim(0.7, 1)\n",
        "plt.xlim(MIN, ua.shape[0] + MIN)\n",
        "plt.show()"
      ],
      "metadata": {
        "id": "pH2lr9Zke_oE"
      },
      "execution_count": null,
      "outputs": []
    },
    {
      "cell_type": "code",
      "source": [
        "# plot the overall accuracy\n",
        "overall_accuracy = [x.overall_accuracy() for x in all_assessments]\n",
        "oa = np.array([x[0] for x in overall_accuracy])\n",
        "oa_se = np.array([x[1] for x in overall_accuracy])\n",
        "x = np.arange(0, ua.shape[0]) + MIN\n",
        "\n",
        "plt.plot(x, oa)\n",
        "plt.fill_between(x, oa - oa_se, oa + oa_se, alpha=0.3)\n",
        "plt.xlabel(\"Number of Samples\")\n",
        "plt.ylabel(\"Overall Accuracy\")\n",
        "plt.ylim(0.7, 1)\n",
        "plt.xlim(MIN, ua.shape[0] + MIN)\n",
        "plt.show()"
      ],
      "metadata": {
        "id": "e8EulEgskiL4"
      },
      "execution_count": null,
      "outputs": []
    }
  ],
  "metadata": {
    "colab": {
      "name": "AccuracyAssessmentTools.ipynb",
      "private_outputs": true,
      "provenance": [],
      "toc_visible": true,
      "include_colab_link": true
    },
    "kernelspec": {
      "display_name": "Python 3 (ipykernel)",
      "language": "python",
      "name": "python3"
    },
    "language_info": {
      "codemirror_mode": {
        "name": "ipython",
        "version": 3
      },
      "file_extension": ".py",
      "mimetype": "text/x-python",
      "name": "python",
      "nbconvert_exporter": "python",
      "pygments_lexer": "ipython3",
      "version": "3.9.16"
    }
  },
  "nbformat": 4,
  "nbformat_minor": 0
}