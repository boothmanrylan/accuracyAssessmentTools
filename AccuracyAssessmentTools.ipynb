{
  "nbformat": 4,
  "nbformat_minor": 0,
  "metadata": {
    "colab": {
      "name": "AccuracyAssessmentTools.ipynb",
      "private_outputs": true,
      "provenance": [],
      "authorship_tag": "ABX9TyN9shPMqWM5/EniesCIp4Vi",
      "include_colab_link": true
    },
    "kernelspec": {
      "name": "python3",
      "display_name": "Python 3"
    },
    "language_info": {
      "name": "python"
    }
  },
  "cells": [
    {
      "cell_type": "markdown",
      "metadata": {
        "id": "view-in-github",
        "colab_type": "text"
      },
      "source": [
        "<a href=\"https://colab.research.google.com/github/boothmanrylan/accuracyAssessmentTools/blob/main/AccuracyAssessmentTools.ipynb\" target=\"_parent\"><img src=\"https://colab.research.google.com/assets/colab-badge.svg\" alt=\"Open In Colab\"/></a>"
      ]
    },
    {
      "cell_type": "markdown",
      "source": [
        "# Installs and Imports"
      ],
      "metadata": {
        "id": "9E5EFNO6Dzfx"
      }
    },
    {
      "cell_type": "code",
      "execution_count": null,
      "metadata": {
        "id": "ogwaLH3BC4xH"
      },
      "outputs": [],
      "source": [
        "import pandas as pd\n",
        "\n",
        "%cd /content\n",
        "!git clone https://github.com/boothmanrylan/accuracyAssessmentTools.git\n",
        "%cd accuracyAssessmentTools\n",
        "\n",
        "\n",
        "from olofsson_acc_assessment import Olofsson2014AccAssessment as Olofsson\n",
        "from olofsson_acc_assessment import test as olofsson_test\n",
        "from naive_acc_assessment import NaiveAccAssessment as Naive\n",
        "from naive_acc_assessment import test as naive_test\n",
        "from stehman_acc_assessment import Stehman2014AccAssessment as Stehman\n",
        "from stehman_acc_assessment import test as stehman_test\n"
      ]
    },
    {
      "cell_type": "markdown",
      "source": [
        "# Verify that the code works as expected"
      ],
      "metadata": {
        "id": "tASR5FX-GITX"
      }
    },
    {
      "cell_type": "code",
      "source": [
        "print('########## TESTING OLOFSSON ##########')\n",
        "olofsson_test()\n",
        "print('\\n\\n########## TESTING STEHMAN ##########')\n",
        "stehman_test()\n",
        "print('\\n\\n########## TESTING NAIVE ##########')\n",
        "naive_test()"
      ],
      "metadata": {
        "id": "wtKKZboXGHcM"
      },
      "execution_count": null,
      "outputs": []
    },
    {
      "cell_type": "markdown",
      "source": [
        "# Load your data\n",
        "\n",
        "Your data should be in a csv file where each row is one point and should have a column containing the mapped class values and a column containing the reference class values. It can have other columns as well. The first row of the csv should contain column names.\n",
        "\n",
        "If performing Stehman or Olofsson assessment you will also need a second file containing the stratum totals or mapped areas respectively. These files should be csv file where the first row is column names, the first column contains class/strata names, the second column contains class/strata totals, and each row contains a single strata/class name and total.\n",
        "\n",
        "1. In the left hand panel click on the folder icon, click on the upload file button, select the csv file containing your accuracy assessment\n",
        "1. Place the file inside the accuracyAssessmentTools folder\n",
        "1. In the below code block replace lines 1, 2, 3 with the name of the csv file, the name of mapped value column, and the name of the reference value column.\n",
        "1. If performing assessment based on olofsson repeat steps 1 and 2 with a csv file containing the total mapped area per class and uncomment lines 6,7,8 and replace line 6 with the name of that file\n",
        "1. If performing assessment based on Stehman replace line 4 with the name of the column containing the strata each point was sampled from and repeat steps 1 and 2 with a csv file containing the stratum totals and uncomment lines 10,11,12 and replace line 10 with the name of that file\n",
        "\n"
      ],
      "metadata": {
        "id": "qhmVR1UuEbDk"
      }
    },
    {
      "cell_type": "code",
      "source": [
        "DATA_FILE = 'AccAssessmentPoints.csv' # Place your file name between the quotes here\n",
        "MAP_VALUE_COLUMN = 'Map Value' # Place the name of the mapped value column here\n",
        "REF_VALUE_COLUMN = 'Class Value' # Place the name of the reference value column here\n",
        "STRATA_VALUE_COLUMN = 'Strata Value' # Place the name of the strata value column here (stehman only)\n",
        "\n",
        "# MAPPED_AREA_FILE = 'mappedAreas.csv' # Place the name of the csv file containing mapped areas here (olofsson only)\n",
        "# _mapped_areas = pd.read_csv(MAPPED_AREA_FILE)\n",
        "# MAPPED_AREAS = dict(zip(_mapped_areas.iloc[:, 0], _mapped_areas.iloc[:, 1]))\n",
        "\n",
        "STRATUM_FILE = 'strataTotals.csv' # Place the name of the csv file containing stata totals here (stehman only)\n",
        "_stratum_totals = pd.read_csv(STRATUM_FILE)\n",
        "STRATUM_TOTALS = dict(zip(_stratum_totals.iloc[:, 0], _stratum_totals.iloc[:, 1]))\n",
        "\n",
        "data = pd.read_csv(DATA_FILE)"
      ],
      "metadata": {
        "id": "3nTkLP4UEet-"
      },
      "execution_count": null,
      "outputs": []
    },
    {
      "cell_type": "markdown",
      "source": [
        "# Create the Assessments\n",
        "Uncomment the assessment types you want to run"
      ],
      "metadata": {
        "id": "SNyH58uHJhxa"
      }
    },
    {
      "cell_type": "code",
      "source": [
        "# olofssonAssessment = Olofsson(data, MAP_VALUE_COLUMN, REF_VALUE_COLUMN, MAPPED_AREAS)\n",
        "stehmanAssessment = Stehman(data, STRATA_VALUE_COLUMN, MAP_VALUE_COLUMN, REF_VALUE_COLUMN, STRATUM_TOTALS)\n",
        "naiveAssessment = Naive(data, MAP_VALUE_COLUMN, REF_VALUE_COLUMN)"
      ],
      "metadata": {
        "id": "Q-HALqQdKqCu"
      },
      "execution_count": null,
      "outputs": []
    },
    {
      "cell_type": "markdown",
      "source": [
        "Each assessment object has at least the following methods:\n",
        "1. `overall_accuracy()`\n",
        "1. `users_accuracy('class name')`\n",
        "1. `producers_accuracy('class name')`\n",
        "1. `commission_error_rate('class name')`\n",
        "1. `ommission_error_rate('class name')`\n",
        "1. `error_matrix()`\n",
        "\n",
        "Aside from `error_matrix` the above methods each return a tuple of 2 values the accuracy metric and the standard error (None if no standard error can be calculated e.g. for a Naive assessment).\n",
        "\n",
        "e.g.\n",
        "\n",
        "`olofssonAssessment.users_accuracy('forest')` will return the olofsson users accuracy for the 'forest' class and its standard error\n",
        "\n",
        "and `stehmanAssessment.error_matrix()` will return a complete error matrix based on Stehman's math "
      ],
      "metadata": {
        "id": "KDrC0ir_SMQX"
      }
    },
    {
      "cell_type": "code",
      "source": [
        "print(stehmanAssessment.overall_accuracy())\n",
        "print(stehmanAssessment.users_accuracy(1))\n",
        "\n",
        "print(naiveAssessment.overall_accuracy())\n",
        "print(naiveAssessment.users_accuracy(1))\n",
        "print(naiveAssessment.users_accuracy(0))\n",
        "\n",
        "print(stehmanAssessment.error_matrix())"
      ],
      "metadata": {
        "id": "M1jNuRpATEhK"
      },
      "execution_count": null,
      "outputs": []
    }
  ]
}