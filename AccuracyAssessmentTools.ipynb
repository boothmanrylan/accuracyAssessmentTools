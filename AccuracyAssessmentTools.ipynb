{
 "cells": [
  {
   "cell_type": "markdown",
   "metadata": {
    "colab_type": "text",
    "id": "view-in-github"
   },
   "source": [
    "<a href=\"https://colab.research.google.com/github/boothmanrylan/accuracyAssessmentTools/blob/main/AccuracyAssessmentTools.ipynb\" target=\"_parent\"><img src=\"https://colab.research.google.com/assets/colab-badge.svg\" alt=\"Open In Colab\"/></a>"
   ]
  },
  {
   "cell_type": "markdown",
   "metadata": {
    "id": "9E5EFNO6Dzfx"
   },
   "source": [
    "# Installs and Imports"
   ]
  },
  {
   "cell_type": "code",
   "execution_count": 1,
   "metadata": {
    "id": "ogwaLH3BC4xH",
    "tags": []
   },
   "outputs": [],
   "source": [
    "import pandas as pd\n",
    "\n",
    "%cd /content\n",
    "!git clone https://github.com/boothmanrylan/accuracyAssessmentTools.git\n",
    "%cd accuracyAssessmentTools\n",
    "!pip install .\n",
    "\n",
    "from acc_assessment.olofsson import Olofsson\n",
    "from acc_assessment.congalton import Congalton\n",
    "from acc_assessment.stehman import Stehman"
   ]
  },
  {
   "cell_type": "markdown",
   "metadata": {
    "id": "tASR5FX-GITX"
   },
   "source": [
    "# Verify that the code works as expected"
   ]
  },
  {
   "cell_type": "code",
   "execution_count": 2,
   "metadata": {
    "id": "wtKKZboXGHcM",
    "tags": []
   },
   "outputs": [
    {
     "name": "stdout",
     "output_type": "stream",
     "text": [
      "\u001b[1m============================= test session starts ==============================\u001b[0m\n",
      "platform linux -- Python 3.9.16, pytest-7.3.1, pluggy-1.0.0\n",
      "rootdir: /home/rylan/school/accuracyAssessmentTools\n",
      "plugins: anyio-3.6.2\n",
      "collected 47 items                                                             \u001b[0m\n",
      "\n",
      "tests/test_congalton.py \u001b[32m.\u001b[0m\u001b[32m.\u001b[0m\u001b[32m.\u001b[0m\u001b[32m.\u001b[0m\u001b[32m.\u001b[0m\u001b[32m.\u001b[0m\u001b[32m.\u001b[0m\u001b[32m.\u001b[0m\u001b[32m.\u001b[0m\u001b[32m                                        [ 19%]\u001b[0m\n",
      "tests/test_olofsson.py \u001b[32m.\u001b[0m\u001b[32m.\u001b[0m\u001b[32m.\u001b[0m\u001b[32m.\u001b[0m\u001b[32m.\u001b[0m\u001b[32m.\u001b[0m\u001b[32m.\u001b[0m\u001b[32m.\u001b[0m\u001b[32m.\u001b[0m\u001b[32m.\u001b[0m\u001b[32m.\u001b[0m\u001b[32m.\u001b[0m\u001b[32m.\u001b[0m\u001b[32m.\u001b[0m\u001b[32m.\u001b[0m\u001b[32m.\u001b[0m\u001b[32m.\u001b[0m\u001b[32m.\u001b[0m\u001b[32m.\u001b[0m\u001b[32m.\u001b[0m\u001b[32m.\u001b[0m\u001b[32m.\u001b[0m\u001b[32m.\u001b[0m\u001b[32m.\u001b[0m\u001b[32m.\u001b[0m\u001b[32m.\u001b[0m\u001b[32m.\u001b[0m\u001b[32m                       [ 76%]\u001b[0m\n",
      "tests/test_stehman.py \u001b[32m.\u001b[0m\u001b[32m.\u001b[0m\u001b[32m.\u001b[0m\u001b[32m.\u001b[0m\u001b[32m.\u001b[0m\u001b[32m.\u001b[0m\u001b[32m.\u001b[0m\u001b[32m.\u001b[0m\u001b[32m.\u001b[0m\u001b[32m.\u001b[0m\u001b[32m.\u001b[0m\u001b[32m                                        [100%]\u001b[0m\n",
      "\n",
      "\u001b[32m============================== \u001b[32m\u001b[1m47 passed\u001b[0m\u001b[32m in 0.70s\u001b[0m\u001b[32m ==============================\u001b[0m\n"
     ]
    }
   ],
   "source": [
    "!pytest"
   ]
  },
  {
   "cell_type": "markdown",
   "metadata": {
    "id": "qhmVR1UuEbDk"
   },
   "source": [
    "# Load your data\n",
    "\n",
    "Your data should be in a csv file where each row is one point and should have a column containing the mapped class values and a column containing the reference class values. It can have other columns as well. The first row of the csv should contain column names.\n",
    "\n",
    "If performing Stehman or Olofsson assessment you will also need a second file containing the stratum totals or mapped areas respectively. These files should be csv file where the first row is column names, the first column contains class/strata names, the second column contains class/strata totals, and each row contains a single strata/class name and total.\n",
    "\n",
    "1. In the left hand panel click on the folder icon, click on the upload file button, select the csv file containing your accuracy assessment\n",
    "1. Place the file inside the accuracyAssessmentTools folder\n",
    "1. In the below code block replace lines 1, 2, 3 with the name of the csv file, the name of mapped value column, and the name of the reference value column.\n",
    "1. If performing assessment based on olofsson repeat steps 1 and 2 with a csv file containing the total mapped area per class and uncomment lines 6,7,8 and replace line 6 with the name of that file\n",
    "1. If performing assessment based on Stehman replace line 4 with the name of the column containing the strata each point was sampled from and repeat steps 1 and 2 with a csv file containing the stratum totals and uncomment lines 10,11,12 and replace line 10 with the name of that file\n",
    "\n"
   ]
  },
  {
   "cell_type": "code",
   "execution_count": null,
   "metadata": {
    "id": "3nTkLP4UEet-"
   },
   "outputs": [],
   "source": [
    "DATA_FILE = 'AccAssessmentPoints.csv' # Place your file name between the quotes here\n",
    "MAP_VALUE_COLUMN = 'Map Value' # Place the name of the mapped value column here\n",
    "REF_VALUE_COLUMN = 'Class Value' # Place the name of the reference value column here\n",
    "STRATA_VALUE_COLUMN = 'Strata Value' # Place the name of the strata value column here (stehman only)\n",
    "\n",
    "# MAPPED_AREA_FILE = 'mappedAreas.csv' # Place the name of the csv file containing mapped areas here (olofsson only)\n",
    "# _mapped_areas = pd.read_csv(MAPPED_AREA_FILE)\n",
    "# MAPPED_AREAS = dict(zip(_mapped_areas.iloc[:, 0], _mapped_areas.iloc[:, 1]))\n",
    "\n",
    "STRATUM_FILE = 'strataTotals.csv' # Place the name of the csv file containing stata totals here (stehman only)\n",
    "_stratum_totals = pd.read_csv(STRATUM_FILE)\n",
    "STRATUM_TOTALS = dict(zip(_stratum_totals.iloc[:, 0], _stratum_totals.iloc[:, 1]))\n",
    "\n",
    "data = pd.read_csv(DATA_FILE)"
   ]
  },
  {
   "cell_type": "markdown",
   "metadata": {
    "id": "SNyH58uHJhxa"
   },
   "source": [
    "# Create the Assessments\n",
    "Uncomment the assessment types you want to run"
   ]
  },
  {
   "cell_type": "code",
   "execution_count": null,
   "metadata": {
    "id": "Q-HALqQdKqCu"
   },
   "outputs": [],
   "source": [
    "# olofssonAssessment = Olofsson(data, MAP_VALUE_COLUMN, REF_VALUE_COLUMN, MAPPED_AREAS)\n",
    "stehmanAssessment = Stehman(data, STRATA_VALUE_COLUMN, MAP_VALUE_COLUMN, REF_VALUE_COLUMN, STRATUM_TOTALS)\n",
    "congaltonAssessment = Congalton(data, MAP_VALUE_COLUMN, REF_VALUE_COLUMN)"
   ]
  },
  {
   "cell_type": "markdown",
   "metadata": {
    "id": "KDrC0ir_SMQX"
   },
   "source": [
    "Each assessment object has at least the following methods:\n",
    "1. `overall_accuracy()`\n",
    "1. `users_accuracy('class name')`\n",
    "1. `producers_accuracy('class name')`\n",
    "1. `commission_error_rate('class name')`\n",
    "1. `ommission_error_rate('class name')`\n",
    "1. `error_matrix()`\n",
    "\n",
    "Aside from `error_matrix` the above methods each return a tuple of 2 values the accuracy metric and the standard error (None if no standard error can be calculated e.g. for a Naive assessment).\n",
    "\n",
    "e.g.\n",
    "\n",
    "`olofssonAssessment.users_accuracy('forest')` will return the olofsson users accuracy for the 'forest' class and its standard error\n",
    "\n",
    "and `stehmanAssessment.error_matrix()` will return a complete error matrix based on Stehman's math "
   ]
  },
  {
   "cell_type": "code",
   "execution_count": null,
   "metadata": {
    "id": "M1jNuRpATEhK"
   },
   "outputs": [],
   "source": [
    "print(stehmanAssessment.overall_accuracy())\n",
    "print(stehmanAssessment.users_accuracy(1))\n",
    "\n",
    "print(congaltonAssessment.overall_accuracy())\n",
    "print(congaltonAssessment.users_accuracy(1))\n",
    "print(congaltonAssessment.users_accuracy(0))\n",
    "\n",
    "print(stehmanAssessment.error_matrix())"
   ]
  }
 ],
 "metadata": {
  "colab": {
   "authorship_tag": "ABX9TyN9shPMqWM5/EniesCIp4Vi",
   "include_colab_link": true,
   "name": "AccuracyAssessmentTools.ipynb",
   "private_outputs": true,
   "provenance": []
  },
  "kernelspec": {
   "display_name": "Python 3 (ipykernel)",
   "language": "python",
   "name": "python3"
  },
  "language_info": {
   "codemirror_mode": {
    "name": "ipython",
    "version": 3
   },
   "file_extension": ".py",
   "mimetype": "text/x-python",
   "name": "python",
   "nbconvert_exporter": "python",
   "pygments_lexer": "ipython3",
   "version": "3.9.16"
  }
 },
 "nbformat": 4,
 "nbformat_minor": 4
}
