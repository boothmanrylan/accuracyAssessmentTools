{
  "cells": [
    {
      "cell_type": "markdown",
      "metadata": {
        "id": "view-in-github",
        "colab_type": "text"
      },
      "source": [
        "<a href=\"https://colab.research.google.com/github/boothmanrylan/accuracyAssessmentTools/blob/jeffs_improvements/AccuracyAssessmentTools.ipynb\" target=\"_parent\"><img src=\"https://colab.research.google.com/assets/colab-badge.svg\" alt=\"Open In Colab\"/></a>"
      ]
    },
    {
      "cell_type": "markdown",
      "metadata": {
        "id": "9E5EFNO6Dzfx"
      },
      "source": [
        "# Installs and Imports"
      ]
    },
    {
      "cell_type": "code",
      "execution_count": null,
      "metadata": {
        "id": "ogwaLH3BC4xH",
        "tags": []
      },
      "outputs": [],
      "source": [
        "%cd /content\n",
        "!git clone https://github.com/boothmanrylan/accuracyAssessmentTools.git\n",
        "%cd accuracyAssessmentTools\n",
        "!git checkout jeffs_improvements\n",
        "!pip install ."
      ]
    },
    {
      "cell_type": "code",
      "source": [
        "import pandas as pd\n",
        "from acc_assessment.olofsson import Olofsson\n",
        "from acc_assessment.congalton import Congalton\n",
        "from acc_assessment.stehman import Stehman\n",
        "from acc_assessment.cardille import Cardille"
      ],
      "metadata": {
        "id": "IrLA0qviG2v2"
      },
      "execution_count": null,
      "outputs": []
    },
    {
      "cell_type": "markdown",
      "metadata": {
        "id": "tASR5FX-GITX"
      },
      "source": [
        "# Verify that the code works as expected"
      ]
    },
    {
      "cell_type": "code",
      "execution_count": null,
      "metadata": {
        "id": "wtKKZboXGHcM",
        "tags": []
      },
      "outputs": [],
      "source": [
        "!pytest"
      ]
    },
    {
      "cell_type": "markdown",
      "source": [
        "# Cardille Assessment Example"
      ],
      "metadata": {
        "id": "LFxh2ddz5J9S"
      }
    },
    {
      "cell_type": "markdown",
      "source": [
        "## Load data\n",
        "\n",
        "Data should come in two csv files: one containing the map data and one containing the reference data. Each file should have one column containing the point id (to link rows from the map csv file to the reference csv file), and one column for the strata that the point was sampled from, and then one column for each of the possible classes containing the reference/map probability that the point belongs to that class. Column names should match between the two csv files.\n",
        "\n",
        "In addition to the two csv files you also need to supply a dictionary mapping the stratum to their total size."
      ],
      "metadata": {
        "id": "tK5ObHhi5SAO"
      }
    },
    {
      "cell_type": "code",
      "source": [
        "map_table = pd.read_csv(\"./tests/map_data_table.csv\")\n",
        "map_table"
      ],
      "metadata": {
        "id": "5wAVv7105Otu"
      },
      "execution_count": null,
      "outputs": []
    },
    {
      "cell_type": "code",
      "source": [
        "ref_table = pd.read_csv(\"./tests/ref_data_table.csv\")\n",
        "ref_table"
      ],
      "metadata": {
        "id": "Jf-PDKPB6EII"
      },
      "execution_count": null,
      "outputs": []
    },
    {
      "cell_type": "code",
      "source": [
        "strata_population_dict = {\n",
        "    'a': 5000,\n",
        "    'f': 10000,\n",
        "    'w': 1000,\n",
        "}"
      ],
      "metadata": {
        "id": "_pmh6NXj-odi"
      },
      "execution_count": null,
      "outputs": []
    },
    {
      "cell_type": "markdown",
      "source": [
        "## Create the assessment\n",
        "\n",
        "The Cardille accuracy assessment is a class. An explanation of its constructor can be viewed by calling `help` on the `__init__` function."
      ],
      "metadata": {
        "id": "2HCTVamq6L3A"
      }
    },
    {
      "cell_type": "code",
      "source": [
        "help(Cardille.__init__)"
      ],
      "metadata": {
        "id": "9uj8QKkg7RQv"
      },
      "execution_count": null,
      "outputs": []
    },
    {
      "cell_type": "code",
      "source": [
        "assessment = Cardille(\n",
        "    map_data=map_table,\n",
        "    ref_data=ref_table,\n",
        "    strata_col=\"strata\",\n",
        "    id_col=\"id\",\n",
        "    strata_population=strata_population_dict,\n",
        ")"
      ],
      "metadata": {
        "id": "xwb3s4B36Sgh"
      },
      "execution_count": null,
      "outputs": []
    },
    {
      "cell_type": "markdown",
      "source": [
        "## View assessment results\n",
        "\n",
        "An overview of the assessment can be seen by printing the assessment object."
      ],
      "metadata": {
        "id": "tjLGKMaL_V6j"
      }
    },
    {
      "cell_type": "code",
      "source": [
        "assessment"
      ],
      "metadata": {
        "id": "zcsQs0K__tzW"
      },
      "execution_count": null,
      "outputs": []
    },
    {
      "cell_type": "markdown",
      "source": [
        "Individual accuracies can be accessed by calling the appropriate method.\n",
        "\n",
        "These methods all return a tuple of two floats which are the value and the standard error respectively. If the standard error is not calculable it will be returned as `None`."
      ],
      "metadata": {
        "id": "7VtYfmcUdTv8"
      }
    },
    {
      "cell_type": "code",
      "source": [
        "forest_users_accuracy = assessment.users_accuracy(\"Forest\")\n",
        "forest_producers_accuracy = assessment.producers_accuracy(\"Forest\")\n",
        "\n",
        "print(forest_users_accuracy)\n",
        "print(forest_producers_accuracy)"
      ],
      "metadata": {
        "id": "fkP-8QsedRkS"
      },
      "execution_count": null,
      "outputs": []
    },
    {
      "cell_type": "markdown",
      "source": [
        "To follow the practices outlined in Olofsson 2014 and Stehman 2014, the error matrix is returned as proportion of area by default. You can get an error matrix of point counts by setting `proportions=False`. Note that for the Cardille assessment these counts are scaled by their \"weights\"."
      ],
      "metadata": {
        "id": "Jb9r3wVAd5RY"
      }
    },
    {
      "cell_type": "code",
      "source": [
        "assessment.error_matrix()"
      ],
      "metadata": {
        "id": "h5C_tfS0eQ0L"
      },
      "execution_count": null,
      "outputs": []
    },
    {
      "cell_type": "code",
      "source": [
        "assessment.error_matrix(proportions=False)"
      ],
      "metadata": {
        "id": "7T-a3gX8eY6E"
      },
      "execution_count": null,
      "outputs": []
    },
    {
      "cell_type": "markdown",
      "source": [
        "An overview of all the methods can be seen by calling `help`."
      ],
      "metadata": {
        "id": "0MPt-QAleqRu"
      }
    },
    {
      "cell_type": "code",
      "source": [
        "help(assessment)"
      ],
      "metadata": {
        "id": "klkJOHdXem_M"
      },
      "execution_count": null,
      "outputs": []
    }
  ],
  "metadata": {
    "colab": {
      "name": "AccuracyAssessmentTools.ipynb",
      "private_outputs": true,
      "provenance": [],
      "toc_visible": true,
      "include_colab_link": true
    },
    "kernelspec": {
      "display_name": "Python 3 (ipykernel)",
      "language": "python",
      "name": "python3"
    },
    "language_info": {
      "codemirror_mode": {
        "name": "ipython",
        "version": 3
      },
      "file_extension": ".py",
      "mimetype": "text/x-python",
      "name": "python",
      "nbconvert_exporter": "python",
      "pygments_lexer": "ipython3",
      "version": "3.9.16"
    }
  },
  "nbformat": 4,
  "nbformat_minor": 0
}